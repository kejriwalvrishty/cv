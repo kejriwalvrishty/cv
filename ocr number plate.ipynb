{
  "nbformat": 4,
  "nbformat_minor": 0,
  "metadata": {
    "colab": {
      "provenance": [],
      "authorship_tag": "ABX9TyPzHav1jVm+io6MAKMLWtVO",
      "include_colab_link": true
    },
    "kernelspec": {
      "name": "python3",
      "display_name": "Python 3"
    },
    "language_info": {
      "name": "python"
    }
  },
  "cells": [
    {
      "cell_type": "markdown",
      "metadata": {
        "id": "view-in-github",
        "colab_type": "text"
      },
      "source": [
        "<a href=\"https://colab.research.google.com/github/kejriwalvrishty/cv/blob/main/ocr%20number%20plate.ipynb\" target=\"_parent\"><img src=\"https://colab.research.google.com/assets/colab-badge.svg\" alt=\"Open In Colab\"/></a>"
      ]
    },
    {
      "cell_type": "code",
      "execution_count": null,
      "metadata": {
        "id": "TotUNWTQSvGR"
      },
      "outputs": [],
      "source": [
        "!pip install easyocr\n",
        "!pip install imutils\n",
        "!pip install flask-ngrok\n",
        "import cv2\n",
        "from matplotlib import pyplot as plt\n",
        "import numpy as np\n",
        "import imutils\n",
        "import easyocr\n",
        "img = cv2.imread(\"/content/drive/MyDrive/OCRnumberplates/image1.jpg\")\n",
        "gray = cv2.cvtColor(img, cv2.COLOR_BGR2GRAY)\n",
        "bfilter = cv2.bilateralFilter(gray, 11, 17, 17) #Noise reduction\n",
        "edged = cv2.Canny(bfilter, 30, 200) #Edge detection\n",
        "keypoints = cv2.findContours(edged.copy(), cv2.RETR_TREE, cv2.CHAIN_APPROX_SIMPLE)\n",
        "contours = imutils.grab_contours(keypoints)\n",
        "contours = sorted(contours, key=cv2.contourArea, reverse=True)[:10]\n",
        "location = None\n",
        "for contour in contours:\n",
        "    approx = cv2.approxPolyDP(contour, 10, True)\n",
        "    if len(approx) == 4:\n",
        "        location = approx\n",
        "        break\n",
        "\n",
        "mask = np.zeros(gray.shape, np.uint8)\n",
        "new_image = cv2.drawContours(mask, [location], 0,255, -1)\n",
        "new_image = cv2.bitwise_and(img, img, mask=mask)\n",
        "\n",
        "(x,y) = np.where(mask==255)\n",
        "(x1, y1) = (np.min(x), np.min(y))\n",
        "(x2, y2) = (np.max(x), np.max(y))\n",
        "cropped_image = gray[x1:x2+1, y1:y2+1]\n",
        "reader = easyocr.Reader(['en'])\n",
        "result = reader.readtext(cropped_image)\n",
        "text = result[0][-2]\n",
        "print(text)"
      ]
    }
  ]
}